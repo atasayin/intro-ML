{
 "cells": [
  {
   "cell_type": "markdown",
   "metadata": {},
   "source": [
    "# Engr421\n",
    "## Homework 5\n",
    "## Ata Sayın, 64437"
   ]
  },
  {
   "cell_type": "code",
   "execution_count": 1,
   "metadata": {},
   "outputs": [],
   "source": [
    "import numpy as np\n",
    "import pandas as pd\n",
    "import matplotlib.pyplot as plt\n",
    "\n",
    "def safelog2(x):\n",
    "    if x == 0:\n",
    "        return (0)\n",
    "    else:\n",
    "        return (np.log2(x))"
   ]
  },
  {
   "cell_type": "markdown",
   "metadata": {},
   "source": [
    "## Data"
   ]
  },
  {
   "cell_type": "code",
   "execution_count": 2,
   "metadata": {},
   "outputs": [],
   "source": [
    "data_set=np.genfromtxt(\"hw04_data_set.csv\",delimiter=\",\",skip_header=1)\n",
    "X=data_set[:,0]\n",
    "Y=data_set[:,1]"
   ]
  },
  {
   "cell_type": "code",
   "execution_count": 3,
   "metadata": {},
   "outputs": [],
   "source": [
    "X_train=X[:100]\n",
    "xtest=X[100:133]\n",
    "N_train=100\n",
    "N_test=33"
   ]
  },
  {
   "cell_type": "code",
   "execution_count": 4,
   "metadata": {},
   "outputs": [],
   "source": [
    "y_train=Y[:100]\n",
    "y_test=Y[100:133]"
   ]
  },
  {
   "cell_type": "markdown",
   "metadata": {},
   "source": [
    "## Regression Tree"
   ]
  },
  {
   "cell_type": "code",
   "execution_count": 5,
   "metadata": {},
   "outputs": [],
   "source": [
    "P=15\n",
    "\n",
    "# create necessary data structures\n",
    "node_indices = {}\n",
    "is_terminal = {}\n",
    "need_split = {}\n",
    "best_scores={}\n",
    "node_splits = {}\n",
    "\n",
    "\n",
    "# put all training instances into the root node\n",
    "node_indices[1] = np.array(range(N_train))\n",
    "is_terminal[1] = False\n",
    "need_split[1] = True\n",
    "split_nodes = [key for key, value in need_split.items() if value == True]\n"
   ]
  },
  {
   "cell_type": "code",
   "execution_count": 6,
   "metadata": {},
   "outputs": [],
   "source": [
    "while True:\n",
    "    split_nodes = [key for key, value in need_split.items() if value == True]\n",
    "    if len(split_nodes) == 0:\n",
    "        break\n",
    "    for split_node in split_nodes:\n",
    "        data_indices = node_indices[split_node]\n",
    "        need_split[split_node] = False\n",
    "        \n",
    "        if len((y_train[data_indices])) <= P:\n",
    "            is_terminal[split_node] = True\n",
    "        else:\n",
    "            is_terminal[split_node] = False\n",
    "\n",
    "            best_score = np.array([])\n",
    "            best_splits = np.array([])\n",
    "            \n",
    "            unique_values = np.sort(np.unique(X_train[data_indices]))\n",
    "            split_positions = (unique_values[1:len(unique_values)] + unique_values[0:(len(unique_values) - 1)]) / 2\n",
    "            split_scores = np.repeat(0.0, len(split_positions))\n",
    "            \n",
    "            for s in range(len(split_positions)):\n",
    "                left_indices = data_indices[X_train[data_indices] < split_positions[s]]\n",
    "                right_indices = data_indices[X_train[data_indices] >= split_positions[s]]\n",
    "                gm_left=np.mean(y_train[left_indices])\n",
    "                gm_right=np.mean(y_train[right_indices])\n",
    "                split_scores[s] =(np.sum((y_train[left_indices]-gm_left)**2)+\n",
    "                np.sum((y_train[right_indices]-gm_right)**2))/len(data_indices)       \n",
    "            \n",
    "            best_score = np.min(split_scores)\n",
    "\n",
    "            best_split = split_positions[np.argmin(split_scores)]\n",
    "            node_splits[split_node] = best_split\n",
    "            \n",
    "        \n",
    "            left_indices = data_indices[X_train[data_indices] < best_split]\n",
    "            node_indices[2 * split_node] = left_indices\n",
    "            is_terminal[2 * split_node] = False\n",
    "            need_split[2 * split_node] = True\n",
    "      \n",
    "    \n",
    "            right_indices = data_indices[X_train[data_indices] >= best_split]\n",
    "            node_indices[2 * split_node + 1] = right_indices\n",
    "            is_terminal[2 * split_node + 1] = False\n",
    "            need_split[2 * split_node + 1] = True\n"
   ]
  },
  {
   "cell_type": "code",
   "execution_count": 7,
   "metadata": {},
   "outputs": [],
   "source": [
    "y_plot={}"
   ]
  },
  {
   "cell_type": "code",
   "execution_count": 8,
   "metadata": {},
   "outputs": [],
   "source": [
    "for node in node_indices:\n",
    "    if node==None :\n",
    "        pass\n",
    "    if is_terminal:\n",
    "        y_plot[node]=np.mean(y_train[node_indices[node]])"
   ]
  },
  {
   "cell_type": "code",
   "execution_count": 9,
   "metadata": {
    "scrolled": true
   },
   "outputs": [
    {
     "data": {
      "text/plain": [
       "{1: -24.034000000000002,\n",
       " 2: -48.728070175438596,\n",
       " 3: 8.7,\n",
       " 4: -16.923333333333332,\n",
       " 5: -84.06666666666666,\n",
       " 6: 19.65238095238095,\n",
       " 7: -1.7545454545454546,\n",
       " 8: -4.0888888888888895,\n",
       " 9: -36.175000000000004,\n",
       " 10: -97.80999999999999,\n",
       " 11: -44.800000000000004,\n",
       " 12: -12.025,\n",
       " 13: 27.105882352941173,\n",
       " 14: -7.566666666666667,\n",
       " 15: 0.42500000000000004,\n",
       " 16: -2.307142857142857,\n",
       " 17: -10.325000000000001,\n",
       " 20: -81.31428571428572,\n",
       " 21: -106.6923076923077,\n",
       " 26: 32.93333333333333,\n",
       " 27: 13.12,\n",
       " 30: 4.911111111111111,\n",
       " 31: -5.3428571428571425}"
      ]
     },
     "execution_count": 9,
     "metadata": {},
     "output_type": "execute_result"
    }
   ],
   "source": [
    "y_plot\n"
   ]
  },
  {
   "cell_type": "code",
   "execution_count": 10,
   "metadata": {},
   "outputs": [
    {
     "ename": "NameError",
     "evalue": "name 'xtrain' is not defined",
     "output_type": "error",
     "traceback": [
      "\u001b[0;31m---------------------------------------------------------------------------\u001b[0m",
      "\u001b[0;31mNameError\u001b[0m                                 Traceback (most recent call last)",
      "\u001b[0;32m<ipython-input-10-7fb492e7c238>\u001b[0m in \u001b[0;36m<module>\u001b[0;34m\u001b[0m\n\u001b[1;32m      1\u001b[0m \u001b[0mplt\u001b[0m\u001b[0;34m.\u001b[0m\u001b[0mfigure\u001b[0m\u001b[0;34m(\u001b[0m\u001b[0mfigsize\u001b[0m \u001b[0;34m=\u001b[0m \u001b[0;34m(\u001b[0m\u001b[0;36m10\u001b[0m\u001b[0;34m,\u001b[0m \u001b[0;36m6\u001b[0m\u001b[0;34m)\u001b[0m\u001b[0;34m)\u001b[0m\u001b[0;34m\u001b[0m\u001b[0;34m\u001b[0m\u001b[0m\n\u001b[0;32m----> 2\u001b[0;31m \u001b[0mplt\u001b[0m\u001b[0;34m.\u001b[0m\u001b[0mplot\u001b[0m\u001b[0;34m(\u001b[0m\u001b[0mxtrain\u001b[0m\u001b[0;34m,\u001b[0m\u001b[0mytrain\u001b[0m\u001b[0;34m,\u001b[0m\u001b[0;34m\".b\"\u001b[0m\u001b[0;34m,\u001b[0m\u001b[0mmarkersize\u001b[0m\u001b[0;34m=\u001b[0m\u001b[0;36m10\u001b[0m\u001b[0;34m,\u001b[0m\u001b[0mlabel\u001b[0m\u001b[0;34m=\u001b[0m\u001b[0;34m\"training\"\u001b[0m\u001b[0;34m)\u001b[0m\u001b[0;34m\u001b[0m\u001b[0;34m\u001b[0m\u001b[0m\n\u001b[0m\u001b[1;32m      3\u001b[0m \u001b[0mplt\u001b[0m\u001b[0;34m.\u001b[0m\u001b[0mplot\u001b[0m\u001b[0;34m(\u001b[0m\u001b[0mxtest\u001b[0m\u001b[0;34m,\u001b[0m\u001b[0mytest\u001b[0m\u001b[0;34m,\u001b[0m\u001b[0;34m\".r\"\u001b[0m\u001b[0;34m,\u001b[0m\u001b[0mmarkersize\u001b[0m\u001b[0;34m=\u001b[0m\u001b[0;36m10\u001b[0m\u001b[0;34m,\u001b[0m\u001b[0mlabel\u001b[0m\u001b[0;34m=\u001b[0m\u001b[0;34m\"test\"\u001b[0m\u001b[0;34m)\u001b[0m\u001b[0;34m\u001b[0m\u001b[0;34m\u001b[0m\u001b[0m\n\u001b[1;32m      4\u001b[0m \u001b[0;32mfor\u001b[0m \u001b[0mn\u001b[0m \u001b[0;32min\u001b[0m \u001b[0mrange\u001b[0m\u001b[0;34m(\u001b[0m\u001b[0mlen\u001b[0m\u001b[0;34m(\u001b[0m\u001b[0mnode_splits\u001b[0m\u001b[0;34m)\u001b[0m\u001b[0;34m)\u001b[0m\u001b[0;34m:\u001b[0m\u001b[0;34m\u001b[0m\u001b[0;34m\u001b[0m\u001b[0m\n\u001b[1;32m      5\u001b[0m     \u001b[0mplt\u001b[0m\u001b[0;34m.\u001b[0m\u001b[0mplot\u001b[0m\u001b[0;34m(\u001b[0m\u001b[0;34m[\u001b[0m\u001b[0mnode_splits\u001b[0m\u001b[0;34m[\u001b[0m\u001b[0mn\u001b[0m\u001b[0;34m]\u001b[0m\u001b[0;34m,\u001b[0m \u001b[0mnode_splits\u001b[0m\u001b[0;34m[\u001b[0m\u001b[0mn\u001b[0m\u001b[0;34m+\u001b[0m\u001b[0;36m1\u001b[0m\u001b[0;34m]\u001b[0m\u001b[0;34m]\u001b[0m\u001b[0;34m,\u001b[0m \u001b[0;34m[\u001b[0m\u001b[0my_plot\u001b[0m\u001b[0;34m[\u001b[0m\u001b[0mn\u001b[0m\u001b[0;34m]\u001b[0m\u001b[0;34m,\u001b[0m \u001b[0my_plot\u001b[0m\u001b[0;34m[\u001b[0m\u001b[0mn\u001b[0m\u001b[0;34m]\u001b[0m\u001b[0;34m]\u001b[0m\u001b[0;34m,\u001b[0m \u001b[0;34m\"k-\"\u001b[0m\u001b[0;34m)\u001b[0m\u001b[0;34m\u001b[0m\u001b[0;34m\u001b[0m\u001b[0m\n",
      "\u001b[0;31mNameError\u001b[0m: name 'xtrain' is not defined"
     ]
    },
    {
     "data": {
      "text/plain": [
       "<Figure size 720x432 with 0 Axes>"
      ]
     },
     "metadata": {},
     "output_type": "display_data"
    }
   ],
   "source": [
    "plt.figure(figsize = (10, 6))\n",
    "plt.plot(xtrain,ytrain,\".b\",markersize=10,label=\"training\")\n",
    "plt.plot(xtest,ytest,\".r\",markersize=10,label=\"test\")\n",
    "for n in range(len(node_splits)):\n",
    "    plt.plot([node_splits[n], node_splits[n+1]], [y_plot[n], y_plot[n]], \"k-\")\n",
    "for b in range(len(node_splits)-1):\n",
    "    plt.plot([node_splits[n], node_splits[n]], [y_plot[b], y_plot[b + 1]], \"k-\")  \n",
    "plt.legend(loc=2)\n",
    "plt.xlabel(\"x\")\n",
    "plt.ylabel(\"y\")\n",
    "plt.show()"
   ]
  },
  {
   "cell_type": "code",
   "execution_count": null,
   "metadata": {},
   "outputs": [],
   "source": []
  },
  {
   "cell_type": "code",
   "execution_count": null,
   "metadata": {},
   "outputs": [],
   "source": []
  }
 ],
 "metadata": {
  "kernelspec": {
   "display_name": "Python 3",
   "language": "python",
   "name": "python3"
  },
  "language_info": {
   "codemirror_mode": {
    "name": "ipython",
    "version": 3
   },
   "file_extension": ".py",
   "mimetype": "text/x-python",
   "name": "python",
   "nbconvert_exporter": "python",
   "pygments_lexer": "ipython3",
   "version": "3.8.3"
  }
 },
 "nbformat": 4,
 "nbformat_minor": 4
}
