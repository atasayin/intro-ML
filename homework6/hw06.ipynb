{
 "cells": [
  {
   "cell_type": "markdown",
   "metadata": {},
   "source": [
    "## Engr421\n",
    "### Homework 6\n",
    "#### Ata Sayın, 64437"
   ]
  },
  {
   "cell_type": "code",
   "execution_count": 1,
   "metadata": {},
   "outputs": [],
   "source": [
    "import matplotlib.pyplot as plt\n",
    "import numpy as np\n",
    "import scipy.spatial as spa\n",
    "from scipy.stats import multivariate_normal"
   ]
  },
  {
   "cell_type": "code",
   "execution_count": 2,
   "metadata": {},
   "outputs": [],
   "source": [
    "np.random.seed(421)\n",
    "class_means = np.array([[+2.5, +2.5], \n",
    "                        [-2.5, +2.5],\n",
    "                        [-2.5, -2.5],\n",
    "                        [+2.5, -2.5],\n",
    "                        [0,       0]\n",
    "                       ])\n",
    "\n",
    "class_covariances = np.array([[[+0.8, -0.6], \n",
    "                               [-0.6, +0.8]],\n",
    "                              \n",
    "                              [[+0.8, +0.6], \n",
    "                               [+0.6, +0.8]],\n",
    "                              \n",
    "                              [[+0.8, -0.6], \n",
    "                               [-0.6, +0.8]],\n",
    "                              \n",
    "                              [[+0.8, +0.6], \n",
    "                               [+0.6, +0.8]],\n",
    "                              \n",
    "                              [[1.6,   0   ],\n",
    "                               [0,     1.6]]\n",
    "                             ])\n",
    "\n",
    "class_sizes = np.array([50,50,50,50,100])"
   ]
  },
  {
   "cell_type": "code",
   "execution_count": 3,
   "metadata": {},
   "outputs": [],
   "source": [
    "points1 = np.random.multivariate_normal(class_means[0,:], class_covariances[0,:,:], class_sizes[0])\n",
    "points2 = np.random.multivariate_normal(class_means[1,:], class_covariances[1,:,:], class_sizes[1])\n",
    "points3 = np.random.multivariate_normal(class_means[2,:], class_covariances[2,:,:], class_sizes[2])\n",
    "points4 = np.random.multivariate_normal(class_means[3,:], class_covariances[3,:,:], class_sizes[3])\n",
    "points5 = np.random.multivariate_normal(class_means[4,:], class_covariances[4,:,:], class_sizes[4])\n",
    "\n",
    "X = np.vstack((points1, points2, points3, points4, points5))"
   ]
  },
  {
   "cell_type": "code",
   "execution_count": 4,
   "metadata": {},
   "outputs": [
    {
     "data": {
      "image/png": "[encoded data removed]",
      "text/plain": [
       "<Figure size 504x504 with 1 Axes>"
      ]
     },
     "metadata": {
      "needs_background": "light"
     },
     "output_type": "display_data"
    }
   ],
   "source": [
    "plt.figure(figsize=(7,7))\n",
    "plt.plot(X[:,0],X[:,1],\"k.\", markersize = 15)\n",
    "plt.xlabel(\"x1\")\n",
    "plt.ylabel(\"x2\")\n",
    "plt.show()"
   ]
  },
  {
   "cell_type": "code",
   "execution_count": 5,
   "metadata": {},
   "outputs": [],
   "source": [
    "def update_centroids(memberships, X):\n",
    "    if memberships is None:\n",
    "        centroids = X[np.random.choice(range(N), K),:]\n",
    "    else:\n",
    "        centroids = np.vstack([np.mean(X[memberships == k,], axis = 0) for k in range(K)])\n",
    "    return(centroids)\n",
    "\n",
    "def update_memberships(centroids, X):\n",
    "    D = spa.distance_matrix(centroids, X)\n",
    "    memberships = np.argmin(D, axis = 0)\n",
    "    return(memberships)"
   ]
  },
  {
   "cell_type": "markdown",
   "metadata": {},
   "source": [
    "#### K_Means"
   ]
  },
  {
   "cell_type": "code",
   "execution_count": 6,
   "metadata": {},
   "outputs": [],
   "source": [
    "centroids = None\n",
    "memberships = None\n",
    "iteration = 1\n",
    "N=np.sum(class_sizes)\n",
    "K=5\n",
    "D=2\n",
    "for x in range(2):\n",
    "    centroids = update_centroids(memberships, X)   \n",
    "    \n",
    "    memberships = update_memberships(centroids, X)\n"
   ]
  },
  {
   "cell_type": "code",
   "execution_count": 10,
   "metadata": {},
   "outputs": [
    {
     "data": {
      "text/plain": [
       "(300,)"
      ]
     },
     "execution_count": 10,
     "metadata": {},
     "output_type": "execute_result"
    }
   ],
   "source": [
    "memberships.shape"
   ]
  },
  {
   "cell_type": "code",
   "execution_count": 8,
   "metadata": {},
   "outputs": [
    {
     "data": {
      "text/plain": [
       "(300, 5)"
      ]
     },
     "execution_count": 8,
     "metadata": {},
     "output_type": "execute_result"
    }
   ],
   "source": [
    "#one_hot \n",
    "Z = np.zeros((N, K)).astype(int)\n",
    "Z.shape"
   ]
  },
  {
   "cell_type": "code",
   "execution_count": 9,
   "metadata": {},
   "outputs": [
    {
     "data": {
      "text/plain": [
       "(300, 5)"
      ]
     },
     "execution_count": 9,
     "metadata": {},
     "output_type": "execute_result"
    }
   ],
   "source": [
    "Z[range(N), memberships] = 1\n",
    "Z.shape"
   ]
  },
  {
   "cell_type": "code",
   "execution_count": 371,
   "metadata": {},
   "outputs": [],
   "source": [
    "#K_means initial values \n",
    "sample_mean=centroids\n",
    "sample_covariance=np.array([np.cov(X[Z[:,h]==1],rowvar=False) for h in range(K)])\n",
    "sample_prior=np.mean(Z,axis=0)\n",
    "likelihood=np.array([multivariate_normal.pdf(X, mean=sample_mean[k], cov=sample_covariance[k])*sample_prior[k] for k in range(K)])\n",
    "H=np.array([likelihood[k]/(np.sum(likelihood,axis=0)) for k in range(K)])\n",
    "    "
   ]
  },
  {
   "cell_type": "code",
   "execution_count": 372,
   "metadata": {
    "collapsed": true
   },
   "outputs": [
    {
     "data": {
      "text/plain": [
       "array([1., 1., 1., 1., 1., 1., 1., 1., 1., 1., 1., 1., 1., 1., 1., 1., 1.,\n",
       "       1., 1., 1., 1., 1., 1., 1., 1., 1., 1., 1., 1., 1., 1., 1., 1., 1.,\n",
       "       1., 1., 1., 1., 1., 1., 1., 1., 1., 1., 1., 1., 1., 1., 1., 1., 1.,\n",
       "       1., 1., 1., 1., 1., 1., 1., 1., 1., 1., 1., 1., 1., 1., 1., 1., 1.,\n",
       "       1., 1., 1., 1., 1., 1., 1., 1., 1., 1., 1., 1., 1., 1., 1., 1., 1.,\n",
       "       1., 1., 1., 1., 1., 1., 1., 1., 1., 1., 1., 1., 1., 1., 1., 1., 1.,\n",
       "       1., 1., 1., 1., 1., 1., 1., 1., 1., 1., 1., 1., 1., 1., 1., 1., 1.,\n",
       "       1., 1., 1., 1., 1., 1., 1., 1., 1., 1., 1., 1., 1., 1., 1., 1., 1.,\n",
       "       1., 1., 1., 1., 1., 1., 1., 1., 1., 1., 1., 1., 1., 1., 1., 1., 1.,\n",
       "       1., 1., 1., 1., 1., 1., 1., 1., 1., 1., 1., 1., 1., 1., 1., 1., 1.,\n",
       "       1., 1., 1., 1., 1., 1., 1., 1., 1., 1., 1., 1., 1., 1., 1., 1., 1.,\n",
       "       1., 1., 1., 1., 1., 1., 1., 1., 1., 1., 1., 1., 1., 1., 1., 1., 1.,\n",
       "       1., 1., 1., 1., 1., 1., 1., 1., 1., 1., 1., 1., 1., 1., 1., 1., 1.,\n",
       "       1., 1., 1., 1., 1., 1., 1., 1., 1., 1., 1., 1., 1., 1., 1., 1., 1.,\n",
       "       1., 1., 1., 1., 1., 1., 1., 1., 1., 1., 1., 1., 1., 1., 1., 1., 1.,\n",
       "       1., 1., 1., 1., 1., 1., 1., 1., 1., 1., 1., 1., 1., 1., 1., 1., 1.,\n",
       "       1., 1., 1., 1., 1., 1., 1., 1., 1., 1., 1., 1., 1., 1., 1., 1., 1.,\n",
       "       1., 1., 1., 1., 1., 1., 1., 1., 1., 1., 1.])"
      ]
     },
     "execution_count": 372,
     "metadata": {},
     "output_type": "execute_result"
    }
   ],
   "source": [
    "#Valid probability estimator\n",
    "sum([H>=0]).shape\n",
    "np.sum(H,axis=0)"
   ]
  },
  {
   "cell_type": "code",
   "execution_count": 373,
   "metadata": {},
   "outputs": [],
   "source": [
    "def e_step(sample_mean,sample_covariance,sample_prior):\n",
    "    \n",
    "    likelihood=np.array([multivariate_normal.pdf(X, mean=sample_mean[k], cov=sample_covariance[k])*sample_prior[k] for k in range(K)])\n",
    "    H=np.array([likelihood[k]/(np.sum(likelihood,axis=0)) for k in range(K)])\n",
    "    return H\n",
    "\n",
    "def m_step(H):\n",
    "    #mean\n",
    "    all_sample_mean=np.array([np.dot(H[k,:],X)/np.sum(H[k,:]) for k in range(K)])\n",
    "    \n",
    "    #cov\n",
    "    all_sample_covariance=[]\n",
    "    for k in range(K):\n",
    "        sum_cov=np.array((2,2))\n",
    "        for i in range(N):\n",
    "            el=H[k][i]*(np.dot((X[i]-all_sample_mean[k]).reshape(2,1),(X[i]-all_sample_mean[k]).reshape(2,1).T))\n",
    "            sum_cov=sum_cov+el\n",
    "        \n",
    "        all_sample_covariance=np.append(all_sample_covariance,sum_cov/np.sum(H[k,:]))\n",
    "\n",
    "    all_sample_covariance=all_sample_covariance.reshape(5,2,2)   \n",
    "\n",
    "    #prior\n",
    "    all_sample_prior=np.mean(H,axis=1)    \n",
    "\n",
    "    likelihood=np.array([multivariate_normal.pdf(X, mean=sample_mean[k], cov=sample_covariance[k])*sample_prior[k] for k in range(K)])\n",
    "    p=np.array([likelihood[k]/(np.sum(likelihood,axis=0)) for k in range(K)])\n",
    "\n",
    "    parameter=np.argmax(p,axis=0)\n",
    "\n",
    "    new_sample_mean=all_sample_mean[parameter]\n",
    "    new_sample_covariance=all_sample_covariance[parameter]\n",
    "    new_sample_prior=all_sample_prior[parameter]\n",
    "    \n",
    "    return(all_sample_mean,all_sample_covariance,all_sample_prior,parameter)"
   ]
  },
  {
   "cell_type": "code",
   "execution_count": 374,
   "metadata": {},
   "outputs": [],
   "source": [
    "iteration=1\n",
    "#K_means initial values \n",
    "sample_mean=centroids\n",
    "sample_covariance=np.array([np.cov(X[Z[:,h]==1],rowvar=False) for h in range(K)])\n",
    "sample_prior=np.mean(Z,axis=0)\n",
    "\n",
    "while True:\n",
    "    iteration=iteration+1\n",
    "    H=e_step(sample_mean,sample_covariance,sample_prior)\n",
    "    \n",
    "    sample_mean,sample_covariance,sample_prior,parameter=m_step(H)\n",
    "       \n",
    "    if (iteration==100):\n",
    "        break"
   ]
  },
  {
   "cell_type": "code",
   "execution_count": null,
   "metadata": {},
   "outputs": [],
   "source": []
  }
 ],
 "metadata": {
  "kernelspec": {
   "display_name": "Python 3",
   "language": "python",
   "name": "python3"
  },
  "language_info": {
   "codemirror_mode": {
    "name": "ipython",
    "version": 3
   },
   "file_extension": ".py",
   "mimetype": "text/x-python",
   "name": "python",
   "nbconvert_exporter": "python",
   "pygments_lexer": "ipython3",
   "version": "3.8.3"
  }
 },
 "nbformat": 4,
 "nbformat_minor": 4
}
