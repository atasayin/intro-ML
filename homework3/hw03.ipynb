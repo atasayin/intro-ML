{
 "cells": [
  {
   "cell_type": "markdown",
   "metadata": {},
   "source": [
    "# ENGR421\n",
    "## HW 3\n",
    "### ATA SAYIN, 64437"
   ]
  },
  {
   "cell_type": "markdown",
   "metadata": {},
   "source": [
    "## Importing "
   ]
  },
  {
   "cell_type": "code",
   "execution_count": 33,
   "metadata": {},
   "outputs": [],
   "source": [
    "import matplotlib.pyplot as plt\n",
    "import matplotlib.image as mpimg\n",
    "import numpy as np\n",
    "import pandas as pd\n",
    "from sklearn.preprocessing import LabelEncoder\n",
    "\n",
    "def safelog(x):\n",
    "    return(np.log(x + 1e-100))"
   ]
  },
  {
   "cell_type": "markdown",
   "metadata": {},
   "source": [
    "## Data Organization "
   ]
  },
  {
   "cell_type": "code",
   "execution_count": 34,
   "metadata": {},
   "outputs": [],
   "source": [
    "data_set_x=np.genfromtxt(\"hw02_data_set_images.csv\",delimiter=\",\")\n",
    "data_set_y=np.genfromtxt(\"hw02_data_set_labels.csv\",delimiter=\",\",dtype=np.str )"
   ]
  },
  {
   "cell_type": "code",
   "execution_count": 35,
   "metadata": {},
   "outputs": [
    {
     "name": "stderr",
     "output_type": "stream",
     "text": [
      "/Users/as/opt/anaconda3/lib/python3.8/site-packages/sklearn/utils/validation.py:73: DataConversionWarning: A column-vector y was passed when a 1d array was expected. Please change the shape of y to (n_samples, ), for example using ravel().\n",
      "  return f(**kwargs)\n"
     ]
    },
    {
     "data": {
      "text/plain": [
       "array([1, 1, 1, 1, 1, 1, 1, 1, 1, 1, 1, 1, 1, 1, 1, 1, 1, 1, 1, 1, 1, 1,\n",
       "       1, 1, 1, 1, 1, 1, 1, 1, 1, 1, 1, 1, 1, 1, 1, 1, 1, 2, 2, 2, 2, 2,\n",
       "       2, 2, 2, 2, 2, 2, 2, 2, 2, 2, 2, 2, 2, 2, 2, 2, 2, 2, 2, 2, 2, 2,\n",
       "       2, 2, 2, 2, 2, 2, 2, 2, 2, 2, 2, 2, 3, 3, 3, 3, 3, 3, 3, 3, 3, 3,\n",
       "       3, 3, 3, 3, 3, 3, 3, 3, 3, 3, 3, 3, 3, 3, 3, 3, 3, 3, 3, 3, 3, 3,\n",
       "       3, 3, 3, 3, 3, 3, 3, 4, 4, 4, 4, 4, 4, 4, 4, 4, 4, 4, 4, 4, 4, 4,\n",
       "       4, 4, 4, 4, 4, 4, 4, 4, 4, 4, 4, 4, 4, 4, 4, 4, 4, 4, 4, 4, 4, 4,\n",
       "       4, 4, 5, 5, 5, 5, 5, 5, 5, 5, 5, 5, 5, 5, 5, 5, 5, 5, 5, 5, 5, 5,\n",
       "       5, 5, 5, 5, 5, 5, 5, 5, 5, 5, 5, 5, 5, 5, 5, 5, 5, 5, 5])"
      ]
     },
     "execution_count": 35,
     "metadata": {},
     "output_type": "execute_result"
    }
   ],
   "source": [
    "df=pd.DataFrame(data_set_y)\n",
    "labelencoder = LabelEncoder()\n",
    "df = labelencoder.fit_transform(df)\n",
    "data_set_y=np.array(df)+1\n",
    "data_set_y"
   ]
  },
  {
   "cell_type": "code",
   "execution_count": 36,
   "metadata": {},
   "outputs": [],
   "source": [
    "ntrain=int(data_set_x.shape[0]*25/39)\n",
    "ntest=int(data_set_x.shape[0]*14/39)\n",
    "D=data_set_x.shape[1]\n",
    "K=5"
   ]
  },
  {
   "cell_type": "code",
   "execution_count": 37,
   "metadata": {},
   "outputs": [
    {
     "data": {
      "text/plain": [
       "(125, 320)"
      ]
     },
     "execution_count": 37,
     "metadata": {},
     "output_type": "execute_result"
    }
   ],
   "source": [
    "xtrain=np.vstack([data_set_x[39*i:25+39*i] for i in range(K)])\n",
    "xtest=np.vstack([data_set_x[25+39*i:39+39*i] for i in range(K)])\n",
    "xtrain.shape"
   ]
  },
  {
   "cell_type": "code",
   "execution_count": 38,
   "metadata": {},
   "outputs": [
    {
     "data": {
      "text/plain": [
       "(125,)"
      ]
     },
     "execution_count": 38,
     "metadata": {},
     "output_type": "execute_result"
    }
   ],
   "source": [
    "ytrain=np.concatenate([data_set_y[39*i:25+39*i] for i in range(K)])\n",
    "ytest=np.concatenate([data_set_y[25+39*i:39+39*i] for i in range(K)])\n",
    "ytrain.shape"
   ]
  },
  {
   "cell_type": "code",
   "execution_count": 39,
   "metadata": {},
   "outputs": [
    {
     "data": {
      "text/plain": [
       "(125, 320)"
      ]
     },
     "execution_count": 39,
     "metadata": {},
     "output_type": "execute_result"
    }
   ],
   "source": [
    "xtrain=np.vstack([data_set_x[39*i:25+39*i] for i in range(K)])\n",
    "xtest=np.vstack([data_set_x[25+39*i:39+39*i] for i in range(K)])\n",
    "xtrain.shape"
   ]
  },
  {
   "cell_type": "code",
   "execution_count": 40,
   "metadata": {},
   "outputs": [
    {
     "data": {
      "text/plain": [
       "(70, 5)"
      ]
     },
     "execution_count": 40,
     "metadata": {},
     "output_type": "execute_result"
    }
   ],
   "source": [
    "Y_train = np.zeros((ntrain, K)).astype(int)\n",
    "Y_train[range(ntrain), ytrain - 1] = 1\n",
    "\n",
    "Y_test = np.zeros((ntest, K)).astype(int)\n",
    "Y_test[range(ntest), ytest - 1] = 1\n",
    "Y_test.shape"
   ]
  },
  {
   "cell_type": "markdown",
   "metadata": {},
   "source": [
    "## Finding PCD's and Priors"
   ]
  },
  {
   "cell_type": "code",
   "execution_count": 41,
   "metadata": {},
   "outputs": [
    {
     "name": "stdout",
     "output_type": "stream",
     "text": [
      "[0.   0.   0.   0.04 0.04 0.04 0.16 0.2  0.16 0.12 0.12 0.24 0.2  0.28\n",
      " 0.36 0.44 0.48 0.56 0.52 0.4  0.   0.04 0.08 0.12 0.16 0.16 0.28 0.28\n",
      " 0.32 0.48 0.56 0.64 0.72 0.76 0.88 0.96 1.   0.92 0.76 0.6  0.   0.04\n",
      " 0.12 0.24 0.28 0.28 0.36 0.44 0.52 0.68 0.8  0.8  0.8  0.88 1.   1.\n",
      " 0.92 0.8  0.76 0.4  0.04 0.16 0.16 0.28 0.44 0.56 0.68 0.76 0.76 0.8\n",
      " 0.76 0.88 0.92 0.92 0.8  0.72 0.68 0.56 0.32 0.2  0.08 0.24 0.36 0.36\n",
      " 0.56 0.64 0.6  0.68 0.68 0.64 0.76 0.8  0.8  0.64 0.48 0.4  0.28 0.12\n",
      " 0.   0.   0.16 0.36 0.44 0.6  0.64 0.72 0.56 0.52 0.48 0.44 0.6  0.68\n",
      " 0.68 0.52 0.4  0.2  0.08 0.   0.   0.   0.32 0.52 0.64 0.64 0.56 0.56\n",
      " 0.4  0.44 0.32 0.44 0.44 0.56 0.64 0.52 0.44 0.12 0.08 0.   0.   0.\n",
      " 0.36 0.64 0.76 0.56 0.56 0.52 0.4  0.4  0.32 0.28 0.36 0.52 0.6  0.44\n",
      " 0.32 0.16 0.16 0.   0.   0.   0.48 0.8  0.76 0.64 0.44 0.36 0.28 0.16\n",
      " 0.2  0.24 0.32 0.48 0.6  0.52 0.4  0.2  0.16 0.   0.   0.   0.6  0.84\n",
      " 0.84 0.72 0.52 0.4  0.32 0.28 0.32 0.28 0.24 0.52 0.56 0.52 0.4  0.2\n",
      " 0.12 0.   0.04 0.   0.56 0.76 0.84 0.76 0.6  0.48 0.4  0.4  0.44 0.36\n",
      " 0.4  0.68 0.6  0.56 0.44 0.32 0.12 0.08 0.08 0.08 0.48 0.68 0.64 0.64\n",
      " 0.56 0.52 0.56 0.52 0.52 0.48 0.64 0.76 0.68 0.52 0.48 0.48 0.4  0.36\n",
      " 0.4  0.36 0.2  0.56 0.52 0.52 0.44 0.56 0.56 0.64 0.6  0.56 0.68 0.8\n",
      " 0.84 0.76 0.68 0.76 0.64 0.64 0.48 0.48 0.2  0.48 0.48 0.48 0.48 0.44\n",
      " 0.48 0.52 0.6  0.68 0.76 0.8  0.8  0.88 0.92 1.   0.88 0.88 0.76 0.72\n",
      " 0.16 0.32 0.36 0.48 0.56 0.6  0.6  0.64 0.64 0.68 0.72 0.8  0.76 0.84\n",
      " 0.88 0.84 0.84 0.76 0.72 0.64 0.08 0.2  0.28 0.36 0.4  0.48 0.48 0.48\n",
      " 0.48 0.52 0.6  0.68 0.72 0.72 0.68 0.56 0.72 0.68 0.68 0.64]\n",
      "-----\n",
      "[0.04 0.24 0.24 0.2  0.12 0.08 0.12 0.16 0.24 0.32 0.28 0.32 0.28 0.28\n",
      " 0.28 0.32 0.4  0.44 0.24 0.2  0.12 0.36 0.48 0.36 0.4  0.52 0.56 0.52\n",
      " 0.6  0.68 0.72 0.68 0.68 0.76 0.76 0.72 0.72 0.68 0.6  0.44 0.28 0.56\n",
      " 0.56 0.52 0.52 0.56 0.56 0.6  0.72 0.76 0.72 0.64 0.72 0.8  0.76 0.76\n",
      " 0.8  0.84 0.68 0.56 0.36 0.64 0.64 0.48 0.44 0.32 0.44 0.52 0.6  0.6\n",
      " 0.64 0.6  0.56 0.52 0.44 0.48 0.64 0.64 0.84 0.76 0.48 0.76 0.56 0.36\n",
      " 0.16 0.2  0.36 0.32 0.56 0.68 0.6  0.44 0.36 0.24 0.16 0.24 0.28 0.4\n",
      " 0.88 0.88 0.48 0.84 0.68 0.28 0.16 0.16 0.36 0.4  0.68 0.76 0.52 0.4\n",
      " 0.28 0.12 0.08 0.08 0.2  0.44 0.88 0.96 0.48 0.84 0.68 0.24 0.08 0.16\n",
      " 0.28 0.4  0.6  0.64 0.44 0.4  0.24 0.08 0.04 0.08 0.12 0.24 0.68 1.\n",
      " 0.52 0.88 0.68 0.24 0.08 0.2  0.36 0.68 0.68 0.64 0.48 0.36 0.16 0.08\n",
      " 0.   0.   0.   0.16 0.56 1.   0.56 0.92 0.72 0.24 0.2  0.28 0.44 0.64\n",
      " 0.72 0.72 0.56 0.36 0.12 0.08 0.   0.   0.04 0.12 0.52 0.96 0.56 0.96\n",
      " 0.8  0.56 0.36 0.4  0.6  0.64 0.72 0.88 0.6  0.36 0.2  0.12 0.08 0.\n",
      " 0.04 0.12 0.56 0.96 0.36 0.8  0.84 0.64 0.6  0.64 0.64 0.56 0.64 0.84\n",
      " 0.64 0.48 0.24 0.12 0.08 0.   0.04 0.24 0.72 0.92 0.28 0.64 0.76 0.64\n",
      " 0.56 0.56 0.6  0.44 0.56 0.8  0.68 0.6  0.32 0.16 0.16 0.08 0.08 0.36\n",
      " 0.64 0.88 0.2  0.44 0.48 0.44 0.48 0.48 0.48 0.36 0.44 0.36 0.68 0.64\n",
      " 0.52 0.4  0.24 0.16 0.2  0.52 0.8  0.76 0.12 0.4  0.44 0.28 0.36 0.44\n",
      " 0.24 0.2  0.2  0.28 0.52 0.76 0.84 0.6  0.36 0.4  0.48 0.84 0.88 0.68\n",
      " 0.12 0.28 0.28 0.28 0.28 0.24 0.16 0.04 0.04 0.12 0.28 0.72 0.88 0.88\n",
      " 0.8  0.84 0.88 0.88 0.68 0.4  0.04 0.16 0.2  0.2  0.16 0.16 0.04 0.\n",
      " 0.   0.04 0.12 0.4  0.72 0.8  0.8  0.88 0.88 0.8  0.56 0.24]\n",
      "-----\n",
      "[0.   0.   0.   0.   0.   0.12 0.2  0.24 0.4  0.56 0.64 0.76 0.72 0.64\n",
      " 0.44 0.36 0.2  0.08 0.   0.   0.   0.   0.12 0.28 0.32 0.56 0.72 0.88\n",
      " 0.92 0.96 0.96 0.96 1.   1.   1.   0.92 0.8  0.48 0.2  0.08 0.   0.2\n",
      " 0.28 0.44 0.6  0.8  0.88 0.92 0.88 0.8  0.76 0.76 0.76 0.88 1.   0.96\n",
      " 0.96 0.84 0.44 0.2  0.04 0.36 0.4  0.64 0.8  0.72 0.68 0.56 0.6  0.44\n",
      " 0.36 0.28 0.36 0.4  0.68 0.8  0.96 0.96 0.8  0.56 0.08 0.4  0.6  0.76\n",
      " 0.76 0.6  0.52 0.36 0.2  0.16 0.08 0.04 0.08 0.12 0.24 0.48 0.88 0.96\n",
      " 0.96 0.68 0.24 0.56 0.8  0.8  0.64 0.44 0.44 0.16 0.12 0.08 0.04 0.\n",
      " 0.   0.   0.08 0.28 0.56 0.96 1.   0.88 0.4  0.72 0.84 0.76 0.56 0.4\n",
      " 0.16 0.12 0.04 0.04 0.   0.   0.   0.   0.   0.04 0.4  0.92 1.   0.96\n",
      " 0.44 0.84 0.92 0.68 0.56 0.28 0.12 0.04 0.04 0.   0.   0.   0.   0.\n",
      " 0.   0.   0.16 0.68 0.96 1.   0.52 0.88 0.88 0.6  0.48 0.16 0.04 0.\n",
      " 0.   0.   0.   0.   0.   0.   0.   0.   0.   0.44 0.92 1.   0.68 0.84\n",
      " 0.84 0.72 0.36 0.2  0.12 0.04 0.   0.   0.   0.   0.   0.   0.   0.\n",
      " 0.04 0.4  0.96 1.   0.64 0.92 0.88 0.68 0.32 0.2  0.16 0.04 0.   0.\n",
      " 0.   0.   0.   0.   0.   0.   0.   0.32 0.88 1.   0.36 0.64 0.8  0.56\n",
      " 0.32 0.24 0.12 0.08 0.   0.   0.   0.   0.   0.   0.   0.   0.16 0.32\n",
      " 0.8  1.   0.36 0.52 0.64 0.48 0.24 0.24 0.16 0.04 0.   0.   0.   0.\n",
      " 0.   0.   0.   0.   0.2  0.4  0.84 1.   0.24 0.48 0.52 0.4  0.2  0.2\n",
      " 0.12 0.04 0.   0.   0.   0.   0.   0.   0.   0.04 0.2  0.48 0.88 0.96\n",
      " 0.16 0.4  0.44 0.36 0.2  0.12 0.08 0.   0.   0.   0.   0.   0.   0.\n",
      " 0.04 0.12 0.24 0.56 0.84 0.84 0.16 0.28 0.32 0.28 0.2  0.16 0.08 0.\n",
      " 0.   0.   0.   0.   0.   0.   0.08 0.16 0.2  0.6  0.88 0.8 ]\n",
      "-----\n",
      "[0.12 0.44 0.4  0.16 0.12 0.08 0.08 0.08 0.12 0.08 0.04 0.04 0.04 0.04\n",
      " 0.04 0.04 0.12 0.32 0.4  0.56 0.44 0.64 0.64 0.44 0.32 0.2  0.24 0.24\n",
      " 0.24 0.28 0.28 0.28 0.32 0.32 0.32 0.44 0.48 0.68 0.68 0.76 0.52 0.76\n",
      " 0.72 0.48 0.4  0.4  0.4  0.44 0.48 0.48 0.48 0.48 0.52 0.48 0.56 0.56\n",
      " 0.6  0.64 0.72 0.8  0.48 0.8  0.76 0.6  0.48 0.32 0.28 0.4  0.4  0.4\n",
      " 0.4  0.48 0.52 0.48 0.4  0.32 0.36 0.52 0.72 0.88 0.44 0.76 0.76 0.68\n",
      " 0.48 0.36 0.28 0.28 0.36 0.4  0.4  0.4  0.4  0.36 0.28 0.32 0.36 0.6\n",
      " 0.76 0.92 0.4  0.8  0.8  0.76 0.44 0.4  0.28 0.24 0.32 0.36 0.28 0.32\n",
      " 0.32 0.32 0.32 0.32 0.32 0.6  0.84 0.96 0.24 0.76 0.76 0.72 0.44 0.32\n",
      " 0.2  0.2  0.24 0.28 0.28 0.4  0.36 0.36 0.32 0.32 0.32 0.48 0.84 0.96\n",
      " 0.16 0.64 0.76 0.72 0.4  0.36 0.36 0.32 0.24 0.24 0.28 0.24 0.16 0.16\n",
      " 0.12 0.16 0.28 0.52 0.84 0.92 0.24 0.6  0.72 0.64 0.52 0.44 0.36 0.28\n",
      " 0.28 0.28 0.24 0.24 0.12 0.12 0.04 0.08 0.2  0.48 0.8  0.92 0.24 0.6\n",
      " 0.72 0.72 0.56 0.36 0.4  0.36 0.28 0.24 0.08 0.08 0.08 0.12 0.16 0.2\n",
      " 0.24 0.64 0.8  0.84 0.16 0.52 0.68 0.72 0.64 0.48 0.4  0.36 0.2  0.08\n",
      " 0.04 0.04 0.12 0.12 0.2  0.2  0.48 0.64 0.84 0.72 0.08 0.32 0.48 0.64\n",
      " 0.56 0.6  0.48 0.24 0.2  0.08 0.08 0.08 0.08 0.08 0.24 0.44 0.6  0.76\n",
      " 0.76 0.64 0.08 0.24 0.44 0.6  0.64 0.6  0.48 0.4  0.24 0.24 0.2  0.16\n",
      " 0.2  0.2  0.36 0.52 0.64 0.76 0.64 0.4  0.08 0.2  0.28 0.36 0.6  0.72\n",
      " 0.68 0.6  0.56 0.48 0.44 0.44 0.44 0.52 0.56 0.64 0.68 0.64 0.48 0.24\n",
      " 0.04 0.16 0.2  0.28 0.48 0.68 0.76 0.8  0.72 0.72 0.68 0.72 0.8  0.8\n",
      " 0.84 0.8  0.72 0.6  0.24 0.16 0.   0.04 0.16 0.24 0.28 0.4  0.56 0.84\n",
      " 0.88 0.92 0.96 0.88 0.8  0.84 0.8  0.64 0.56 0.28 0.16 0.08]\n",
      "-----\n",
      "[0.   0.12 0.12 0.08 0.12 0.16 0.12 0.04 0.12 0.12 0.2  0.2  0.24 0.24\n",
      " 0.32 0.52 0.52 0.56 0.56 0.32 0.   0.16 0.24 0.28 0.32 0.4  0.36 0.44\n",
      " 0.48 0.64 0.6  0.72 0.68 0.8  0.84 0.92 0.92 0.96 0.84 0.68 0.04 0.24\n",
      " 0.36 0.4  0.48 0.48 0.44 0.56 0.56 0.64 0.72 0.8  0.8  0.8  0.76 0.8\n",
      " 0.8  0.96 0.88 0.8  0.04 0.4  0.48 0.56 0.6  0.48 0.6  0.6  0.56 0.6\n",
      " 0.8  0.84 0.88 0.64 0.52 0.44 0.72 0.84 0.96 0.8  0.04 0.48 0.52 0.6\n",
      " 0.56 0.48 0.48 0.52 0.52 0.72 0.76 0.88 0.68 0.4  0.28 0.16 0.4  0.8\n",
      " 0.92 0.88 0.04 0.52 0.68 0.72 0.52 0.36 0.44 0.44 0.4  0.68 0.88 0.84\n",
      " 0.48 0.28 0.04 0.08 0.24 0.8  0.92 0.88 0.16 0.6  0.8  0.84 0.64 0.48\n",
      " 0.28 0.28 0.28 0.68 0.76 0.8  0.4  0.12 0.   0.04 0.32 0.68 0.96 0.88\n",
      " 0.28 0.76 0.88 0.8  0.56 0.32 0.12 0.16 0.28 0.76 0.76 0.84 0.28 0.08\n",
      " 0.04 0.12 0.28 0.72 0.96 0.88 0.28 0.88 0.96 0.64 0.32 0.16 0.04 0.04\n",
      " 0.36 0.76 0.76 0.72 0.32 0.08 0.04 0.12 0.32 0.68 1.   0.88 0.28 1.\n",
      " 1.   0.6  0.28 0.12 0.   0.08 0.36 0.8  0.88 0.72 0.32 0.12 0.04 0.04\n",
      " 0.28 0.64 0.96 0.92 0.4  1.   1.   0.6  0.16 0.12 0.   0.16 0.36 0.8\n",
      " 0.8  0.76 0.28 0.12 0.04 0.04 0.32 0.64 0.92 0.92 0.6  1.   1.   0.48\n",
      " 0.24 0.   0.   0.2  0.4  0.8  0.72 0.6  0.28 0.04 0.   0.04 0.36 0.64\n",
      " 0.92 0.92 0.72 1.   0.96 0.44 0.24 0.   0.   0.16 0.44 0.8  0.76 0.52\n",
      " 0.24 0.04 0.   0.08 0.32 0.56 0.84 0.8  0.68 0.96 0.92 0.48 0.2  0.04\n",
      " 0.04 0.12 0.36 0.68 0.48 0.36 0.2  0.04 0.   0.12 0.32 0.56 0.76 0.64\n",
      " 0.64 0.88 0.76 0.28 0.08 0.   0.04 0.08 0.24 0.4  0.32 0.28 0.12 0.04\n",
      " 0.   0.08 0.32 0.44 0.52 0.52 0.6  0.84 0.64 0.28 0.08 0.   0.04 0.08\n",
      " 0.2  0.24 0.24 0.2  0.08 0.04 0.   0.04 0.28 0.32 0.48 0.44]\n",
      "-----\n"
     ]
    }
   ],
   "source": [
    "pdc=np.stack([np.mean(xtrain[i*25:25+25*i],axis=0) for i in range(K)])\n",
    "print(pdc[0,])\n",
    "print(\"-----\")\n",
    "print(pdc[1,])\n",
    "print(\"-----\")\n",
    "print(pdc[2,])\n",
    "print(\"-----\")\n",
    "print(pdc[3,])\n",
    "print(\"-----\")\n",
    "print(pdc[4,])\n",
    "print(\"-----\")"
   ]
  },
  {
   "cell_type": "code",
   "execution_count": 42,
   "metadata": {},
   "outputs": [
    {
     "data": {
      "text/plain": [
       "array([0.2, 0.2, 0.2, 0.2, 0.2])"
      ]
     },
     "execution_count": 42,
     "metadata": {},
     "output_type": "execute_result"
    }
   ],
   "source": [
    "class_priors_train=np.mean(Y_train,axis=0)\n",
    "class_priors_train"
   ]
  },
  {
   "cell_type": "code",
   "execution_count": 43,
   "metadata": {},
   "outputs": [
    {
     "data": {
      "text/plain": [
       "array([0.2, 0.2, 0.2, 0.2, 0.2])"
      ]
     },
     "execution_count": 43,
     "metadata": {},
     "output_type": "execute_result"
    }
   ],
   "source": [
    "class_priors_test=np.mean(Y_test,axis=0)\n",
    "class_priors_test"
   ]
  },
  {
   "cell_type": "markdown",
   "metadata": {},
   "source": [
    "## Ploting PCD's\n"
   ]
  },
  {
   "cell_type": "code",
   "execution_count": 44,
   "metadata": {},
   "outputs": [
    {
     "data": {
      "image/png": "[encoded data removed]",
      "text/plain": [
       "<Figure size 432x288 with 5 Axes>"
      ]
     },
     "metadata": {
      "needs_background": "light"
     },
     "output_type": "display_data"
    }
   ],
   "source": [
    "fig, (ax1, ax2, ax3, ax4, ax5) = plt.subplots(1, 5)\n",
    "ax1.imshow(pdc[0,].reshape(16,20).T,cmap='binary')\n",
    "ax1.axis('off')\n",
    "ax2.imshow(pdc[1,].reshape(16,20).T,cmap='binary')\n",
    "ax2.axis('off')\n",
    "ax3.imshow(pdc[2,].reshape(16,20).T,cmap='binary')\n",
    "ax3.axis('off')\n",
    "ax4.imshow(pdc[3,].reshape(16,20).T,cmap='binary')\n",
    "ax4.axis('off')\n",
    "ax5.imshow(pdc[4,].reshape(16,20).T,cmap='binary')\n",
    "ax5.axis('off')\n",
    "plt.show()"
   ]
  },
  {
   "cell_type": "markdown",
   "metadata": {},
   "source": [
    "## Naive Bayes Classifier"
   ]
  },
  {
   "cell_type": "code",
   "execution_count": 45,
   "metadata": {
    "scrolled": true
   },
   "outputs": [],
   "source": [
    "p0=safelog(pdc[0,])\n",
    "p1=safelog(pdc[1,])\n",
    "p2=safelog(pdc[2,])\n",
    "p3=safelog(pdc[3,])\n",
    "p4=safelog(pdc[4,])\n",
    "\n",
    "p=np.array([p0,p1,p2,p3,p4]).T\n",
    "n_p=np.array([safelog(1-pdc[0,]),safelog(1-pdc[1,]),safelog(1-pdc[2,]),safelog(1-pdc[3,]),safelog(1-pdc[4,])]).T"
   ]
  },
  {
   "cell_type": "code",
   "execution_count": 46,
   "metadata": {},
   "outputs": [
    {
     "data": {
      "text/plain": [
       "(125, 5)"
      ]
     },
     "execution_count": 46,
     "metadata": {},
     "output_type": "execute_result"
    }
   ],
   "source": [
    "y_hat=np.matmul(xtrain,p)+np.matmul(1-xtrain,n_p)+np.array(np.repeat(class_priors_train[None,:],125,axis=0))\n",
    "y_hat.shape"
   ]
  },
  {
   "cell_type": "markdown",
   "metadata": {},
   "source": [
    "## Confusion Matrix"
   ]
  },
  {
   "cell_type": "code",
   "execution_count": 47,
   "metadata": {},
   "outputs": [
    {
     "name": "stdout",
     "output_type": "stream",
     "text": [
      "y_train   1   2   3   4   5\n",
      "y_pred                     \n",
      "1        25   0   0   0   0\n",
      "2         0  24   1   0   1\n",
      "3         0   0  24   0   0\n",
      "4         0   1   0  25   0\n",
      "5         0   0   0   0  24\n"
     ]
    }
   ],
   "source": [
    "y_predicted = np.argmax(y_hat, axis = 1) + 1\n",
    "confusion_matrix = pd.crosstab(y_predicted, ytrain, rownames = ['y_pred'], colnames = ['y_train'])\n",
    "print(confusion_matrix)"
   ]
  },
  {
   "cell_type": "code",
   "execution_count": 48,
   "metadata": {},
   "outputs": [
    {
     "data": {
      "text/plain": [
       "(70, 5)"
      ]
     },
     "execution_count": 48,
     "metadata": {},
     "output_type": "execute_result"
    }
   ],
   "source": [
    "y_hat=np.matmul(xtest,p)+np.matmul(1-xtest,n_p)+np.array(np.repeat(class_priors_test[None,:],70,axis=0))\n",
    "y_hat.shape"
   ]
  },
  {
   "cell_type": "code",
   "execution_count": 49,
   "metadata": {},
   "outputs": [
    {
     "name": "stdout",
     "output_type": "stream",
     "text": [
      "y_train  1   2  3   4   5\n",
      "y_pred                   \n",
      "1        7   0  0   0   0\n",
      "2        0  11  3   2   4\n",
      "3        0   0  7   0   0\n",
      "4        7   3  3  12   0\n",
      "5        0   0  1   0  10\n"
     ]
    }
   ],
   "source": [
    "y_predicted = np.argmax(y_hat, axis = 1) + 1\n",
    "confusion_matrix = pd.crosstab(y_predicted, ytest, rownames = ['y_pred'], colnames = ['y_train'])\n",
    "print(confusion_matrix)"
   ]
  }
 ],
 "metadata": {
  "kernelspec": {
   "display_name": "Python 3",
   "language": "python",
   "name": "python3"
  },
  "language_info": {
   "codemirror_mode": {
    "name": "ipython",
    "version": 3
   },
   "file_extension": ".py",
   "mimetype": "text/x-python",
   "name": "python",
   "nbconvert_exporter": "python",
   "pygments_lexer": "ipython3",
   "version": "3.8.3"
  }
 },
 "nbformat": 4,
 "nbformat_minor": 4
}
